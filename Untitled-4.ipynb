{
 "cells": [
  {
   "cell_type": "code",
   "execution_count": 3,
   "metadata": {},
   "outputs": [
    {
     "name": "stdout",
     "output_type": "stream",
     "text": [
      "Requirement already satisfied: pyspark in c:\\users\\27421\\appdata\\local\\packages\\pythonsoftwarefoundation.python.3.11_qbz5n2kfra8p0\\localcache\\local-packages\\python311\\site-packages (3.5.1)\n",
      "Requirement already satisfied: py4j==0.10.9.7 in c:\\users\\27421\\appdata\\local\\packages\\pythonsoftwarefoundation.python.3.11_qbz5n2kfra8p0\\localcache\\local-packages\\python311\\site-packages (from pyspark) (0.10.9.7)\n"
     ]
    },
    {
     "name": "stderr",
     "output_type": "stream",
     "text": [
      "\n",
      "[notice] A new release of pip is available: 24.0 -> 24.1.2\n",
      "[notice] To update, run: C:\\Users\\27421\\AppData\\Local\\Microsoft\\WindowsApps\\PythonSoftwareFoundation.Python.3.11_qbz5n2kfra8p0\\python.exe -m pip install --upgrade pip\n"
     ]
    },
    {
     "name": "stdout",
     "output_type": "stream",
     "text": [
      "Requirement already satisfied: findspark in c:\\users\\27421\\appdata\\local\\packages\\pythonsoftwarefoundation.python.3.11_qbz5n2kfra8p0\\localcache\\local-packages\\python311\\site-packages (2.0.1)\n"
     ]
    },
    {
     "name": "stderr",
     "output_type": "stream",
     "text": [
      "\n",
      "[notice] A new release of pip is available: 24.0 -> 24.1.2\n",
      "[notice] To update, run: C:\\Users\\27421\\AppData\\Local\\Microsoft\\WindowsApps\\PythonSoftwareFoundation.Python.3.11_qbz5n2kfra8p0\\python.exe -m pip install --upgrade pip\n"
     ]
    }
   ],
   "source": [
    "!pip install  pyspark \n",
    "!pip install findspark\n"
   ]
  },
  {
   "cell_type": "code",
   "execution_count": 4,
   "metadata": {},
   "outputs": [
    {
     "ename": "ModuleNotFoundError",
     "evalue": "No module named 'findspark'",
     "output_type": "error",
     "traceback": [
      "\u001b[1;31m---------------------------------------------------------------------------\u001b[0m",
      "\u001b[1;31mModuleNotFoundError\u001b[0m                       Traceback (most recent call last)",
      "Cell \u001b[1;32mIn[4], line 1\u001b[0m\n\u001b[1;32m----> 1\u001b[0m \u001b[38;5;28;01mimport\u001b[39;00m \u001b[38;5;21;01mfindspark\u001b[39;00m\n\u001b[0;32m      2\u001b[0m findspark\u001b[38;5;241m.\u001b[39minit()\n\u001b[0;32m      4\u001b[0m \u001b[38;5;28;01mfrom\u001b[39;00m \u001b[38;5;21;01mpyspark\u001b[39;00m\u001b[38;5;21;01m.\u001b[39;00m\u001b[38;5;21;01msql\u001b[39;00m \u001b[38;5;28;01mimport\u001b[39;00m SparkSession\n",
      "\u001b[1;31mModuleNotFoundError\u001b[0m: No module named 'findspark'"
     ]
    }
   ],
   "source": [
    "import findspark\n",
    "findspark.init()\n",
    "\n",
    "from pyspark.sql import SparkSession\n",
    "\n",
    "(base) PS C:\\Users\\27421> conda activate final\n",
    "(final) PS C:\\Users\\27421> conda install findspark\n",
    "Channels:\n",
    " - defaults\n",
    "Platform: win-64\n",
    "Collecting package metadata (repodata.json): done\n",
    "Solving environment: failed\n",
    "\n",
    "PackagesNotFoundError: The following packages are not available from current channels:\n",
    "\n",
    "  - findspark\n",
    "\n",
    "Current channels:\n",
    "\n",
    "  - defaults\n",
    "\n",
    "To search for alternate channels that may provide the conda package you're\n",
    "looking for, navigate to\n",
    "\n",
    "    https://anaconda.org\n",
    "\n",
    "and use the search bar at the top of the page.\n",
    "\n",
    "\n",
    "(final) PS C:\\Users\\27421>\n",
    "\n",
    "# 创建 SparkSession\n",
    "spark = SparkSession.builder \\\n",
    "    .appName(\"ExcelExample\") \\\n",
    "    .config(\"spark.jars.packages\", \"com.crealytics:spark-excel_2.12:0.13.5\") \\\n",
    "    .getOrCreate()\n",
    "\n",
    "# 读取 Excel 文件\n",
    "excel_file_path = \"E:/hku/cloud cluster/ex4/athlete_final.xlsx\"\n",
    "excel_df = spark.read.format(\"com.crealytics.spark.excel\") \\\n",
    "    .option(\"header\", \"true\") \\\n",
    "    .option(\"inferSchema\", \"true\") \\\n",
    "    .option(\"dataAddress\", \"'Sheet1'!A1\") \\\n",
    "    .load(excel_file_path)\n",
    "\n",
    "# 显示数据\n",
    "excel_df.show()\n"
   ]
  },
  {
   "cell_type": "code",
   "execution_count": null,
   "metadata": {},
   "outputs": [
    {
     "name": "stdout",
     "output_type": "stream",
     "text": [
      "root\n",
      " |-- ID: long (nullable = true)\n",
      " |-- Name: string (nullable = true)\n",
      " |-- Sex: string (nullable = true)\n",
      " |-- Age: double (nullable = true)\n",
      " |-- Height: double (nullable = true)\n",
      " |-- Weight: double (nullable = true)\n",
      " |-- Team: string (nullable = true)\n",
      " |-- NOC: string (nullable = true)\n",
      " |-- Games: string (nullable = true)\n",
      " |-- Year: long (nullable = true)\n",
      " |-- Season: string (nullable = true)\n",
      " |-- City: string (nullable = true)\n",
      " |-- Sport: string (nullable = true)\n",
      " |-- Event: string (nullable = true)\n",
      " |-- Medal: string (nullable = true)\n",
      "\n"
     ]
    }
   ],
   "source": [
    "# 打印Schema\n",
    "df.printSchema()\n"
   ]
  },
  {
   "cell_type": "code",
   "execution_count": null,
   "metadata": {},
   "outputs": [
    {
     "name": "stdout",
     "output_type": "stream",
     "text": [
      "+---+--------------------+---+----+------+------+-------+---+-----------+----+------+---------+----------+--------------------+-----+\n",
      "| ID|                Name|Sex| Age|Height|Weight|   Team|NOC|      Games|Year|Season|     City|     Sport|               Event|Medal|\n",
      "+---+--------------------+---+----+------+------+-------+---+-----------+----+------+---------+----------+--------------------+-----+\n",
      "|  1|           A Dijiang|  M|24.0| 180.0|  80.0|  China|CHN|1992 Summer|1992|Summer|Barcelona|Basketball|Basketball Men's ...|  NaN|\n",
      "|  2|            A Lamusi|  M|23.0| 170.0|  60.0|  China|CHN|2012 Summer|2012|Summer|   London|      Judo|Judo Men's Extra-...|  NaN|\n",
      "| 10|Einar Ferdinand \"...|  M|26.0|   NaN|   NaN|Finland|FIN|1952 Summer|1952|Summer| Helsinki|  Swimming|Swimming Men's 40...|  NaN|\n",
      "| 12|   Jyri Tapani Aalto|  M|31.0| 172.0|  70.0|Finland|FIN|2000 Summer|2000|Summer|   Sydney| Badminton|Badminton Men's S...|  NaN|\n",
      "| 13|  Minna Maarit Aalto|  F|30.0| 159.0|  55.5|Finland|FIN|1996 Summer|1996|Summer|  Atlanta|   Sailing|Sailing Women's W...|  NaN|\n",
      "+---+--------------------+---+----+------+------+-------+---+-----------+----+------+---------+----------+--------------------+-----+\n",
      "only showing top 5 rows\n",
      "\n"
     ]
    }
   ],
   "source": [
    "# 显示数据的前几行（类似于.head()）\n",
    "df.show(5)\n",
    "\n"
   ]
  },
  {
   "cell_type": "code",
   "execution_count": null,
   "metadata": {},
   "outputs": [
    {
     "name": "stdout",
     "output_type": "stream",
     "text": [
      "+-------+-----------------+--------------------+------+------+------+------+-----------+------+-----------+------------------+------+------+---------+--------------------+------+\n",
      "|summary|               ID|                Name|   Sex|   Age|Height|Weight|       Team|   NOC|      Games|              Year|Season|  City|    Sport|               Event| Medal|\n",
      "+-------+-----------------+--------------------+------+------+------+------+-----------+------+-----------+------------------+------+------+---------+--------------------+------+\n",
      "|  count|           186069|              186069|186069|186069|186069|186069|     186069|186069|     186069|            186069|186069|186069|   186069|              186069|186069|\n",
      "|   mean|68046.67736162391|                NULL|  NULL|   NaN|   NaN|   NaN|       NULL|  NULL|       NULL|1987.1543352197302|  NULL|  NULL|     NULL|                NULL|   NaN|\n",
      "| stddev|39166.59551770264|                NULL|  NULL|   NaN|   NaN|   NaN|       NULL|  NULL|       NULL| 20.06994093024923|  NULL|  NULL|     NULL|                NULL|   NaN|\n",
      "|    min|                1|  Gabrielle Marie...|     F|  11.0| 127.0|  25.0|30. Februar|   AFG|1948 Summer|              1948|Summer|Athina|  Archery|Archery Men's Ind...|Bronze|\n",
      "|    max|           135568|            zzet nce|     M|   NaN|   NaN|   NaN|   Zimbabwe|   ZIM|2016 Summer|              2016|Summer| Tokyo|Wrestling|Wrestling Women's...|Silver|\n",
      "+-------+-----------------+--------------------+------+------+------+------+-----------+------+-----------+------------------+------+------+---------+--------------------+------+\n",
      "\n"
     ]
    }
   ],
   "source": [
    "# 获取数值列的统计信息\n",
    "df.describe().show()\n"
   ]
  },
  {
   "cell_type": "code",
   "execution_count": null,
   "metadata": {},
   "outputs": [
    {
     "name": "stdout",
     "output_type": "stream",
     "text": [
      "Total Rows: 186069\n"
     ]
    }
   ],
   "source": [
    "\n",
    "# 计算总行数\n",
    "total_rows = df.count()\n",
    "print(f\"Total Rows: {total_rows}\")\n"
   ]
  },
  {
   "cell_type": "code",
   "execution_count": null,
   "metadata": {},
   "outputs": [
    {
     "name": "stdout",
     "output_type": "stream",
     "text": [
      "Distinct Rows: 185972\n"
     ]
    }
   ],
   "source": [
    "# 计算去重后的行数\n",
    "distinct_rows = df.distinct().count()\n",
    "print(f\"Distinct Rows: {distinct_rows}\")\n",
    "\n"
   ]
  },
  {
   "cell_type": "code",
   "execution_count": null,
   "metadata": {},
   "outputs": [
    {
     "data": {
      "text/plain": [
       "[('ID', 'bigint'),\n",
       " ('Name', 'string'),\n",
       " ('Sex', 'string'),\n",
       " ('Age', 'double'),\n",
       " ('Height', 'double'),\n",
       " ('Weight', 'double'),\n",
       " ('Team', 'string'),\n",
       " ('NOC', 'string'),\n",
       " ('Games', 'string'),\n",
       " ('Year', 'bigint'),\n",
       " ('Season', 'string'),\n",
       " ('City', 'string'),\n",
       " ('Sport', 'string'),\n",
       " ('Event', 'string'),\n",
       " ('Medal', 'string')]"
      ]
     },
     "execution_count": 7,
     "metadata": {},
     "output_type": "execute_result"
    }
   ],
   "source": [
    "\n",
    "# 打印DataFrame的列名和数据类型\n",
    "df.dtypes\n"
   ]
  },
  {
   "cell_type": "code",
   "execution_count": null,
   "metadata": {},
   "outputs": [
    {
     "name": "stdout",
     "output_type": "stream",
     "text": [
      "Column: ID, Non-null values: 186069, Null values: 0\n",
      "Column: Name, Non-null values: 186069, Null values: 0\n",
      "Column: Sex, Non-null values: 186069, Null values: 0\n",
      "Column: Age, Non-null values: 186069, Null values: 0\n",
      "Column: Height, Non-null values: 186069, Null values: 0\n",
      "Column: Weight, Non-null values: 186069, Null values: 0\n",
      "Column: Team, Non-null values: 186069, Null values: 0\n",
      "Column: NOC, Non-null values: 186069, Null values: 0\n",
      "Column: Games, Non-null values: 186069, Null values: 0\n",
      "Column: Year, Non-null values: 186069, Null values: 0\n",
      "Column: Season, Non-null values: 186069, Null values: 0\n",
      "Column: City, Non-null values: 186069, Null values: 0\n",
      "Column: Sport, Non-null values: 186069, Null values: 0\n",
      "Column: Event, Non-null values: 186069, Null values: 0\n",
      "Column: Medal, Non-null values: 186069, Null values: 0\n"
     ]
    }
   ],
   "source": [
    "\n",
    "# 获取每列的非空值数和空值数\n",
    "for col in df.columns:\n",
    "    non_null_count = df.filter(df[col].isNotNull()).count()\n",
    "    null_count = df.filter(df[col].isNull()).count()\n",
    "    print(f\"Column: {col}, Non-null values: {non_null_count}, Null values: {null_count}\")"
   ]
  },
  {
   "cell_type": "code",
   "execution_count": null,
   "metadata": {},
   "outputs": [
    {
     "name": "stdout",
     "output_type": "stream",
     "text": [
      "root\n",
      " |-- ID: long (nullable = true)\n",
      " |-- Name: string (nullable = true)\n",
      " |-- Sex: string (nullable = true)\n",
      " |-- Age: double (nullable = true)\n",
      " |-- Height: double (nullable = true)\n",
      " |-- Weight: double (nullable = true)\n",
      " |-- Team: string (nullable = true)\n",
      " |-- NOC: string (nullable = true)\n",
      " |-- Games: string (nullable = true)\n",
      " |-- Year: long (nullable = true)\n",
      " |-- Season: string (nullable = true)\n",
      " |-- City: string (nullable = true)\n",
      " |-- Sport: string (nullable = true)\n",
      " |-- Event: string (nullable = true)\n",
      " |-- Medal: string (nullable = true)\n",
      "\n"
     ]
    }
   ],
   "source": [
    "# 显示数据框架架构\n",
    "df.printSchema()\n"
   ]
  },
  {
   "cell_type": "code",
   "execution_count": null,
   "metadata": {},
   "outputs": [
    {
     "name": "stdout",
     "output_type": "stream",
     "text": [
      "Column: ID, NA values: 0\n",
      "Column: Name, NA values: 0\n",
      "Column: Sex, NA values: 0\n",
      "Column: Age, NA values: 0\n",
      "Column: Height, NA values: 0\n",
      "Column: Weight, NA values: 0\n",
      "Column: Team, NA values: 0\n",
      "Column: NOC, NA values: 0\n",
      "Column: Games, NA values: 0\n",
      "Column: Year, NA values: 0\n",
      "Column: Season, NA values: 0\n",
      "Column: City, NA values: 0\n",
      "Column: Sport, NA values: 0\n",
      "Column: Event, NA values: 0\n",
      "Column: Medal, NA values: 0\n"
     ]
    }
   ],
   "source": [
    "# 注册DataFrame为临时视图\n",
    "df.createOrReplaceTempView(\"df_view\")\n",
    "\n",
    "# 获取每列的NA值数\n",
    "for col in df.columns:\n",
    "    na_count = spark.sql(f\"SELECT COUNT(*) as na_count FROM df_view WHERE {col} = 'NA'\").collect()[0][\"na_count\"]\n",
    "    print(f\"Column: {col}, NA values: {na_count}\")"
   ]
  },
  {
   "cell_type": "code",
   "execution_count": null,
   "metadata": {},
   "outputs": [
    {
     "ename": "TypeError",
     "evalue": "'str' object is not callable",
     "output_type": "error",
     "traceback": [
      "\u001b[1;31m---------------------------------------------------------------------------\u001b[0m",
      "\u001b[1;31mTypeError\u001b[0m                                 Traceback (most recent call last)",
      "Cell \u001b[1;32mIn[11], line 5\u001b[0m\n\u001b[0;32m      2\u001b[0m pattern \u001b[38;5;241m=\u001b[39m \u001b[38;5;124mr\u001b[39m\u001b[38;5;124m\"\u001b[39m\u001b[38;5;124m^\u001b[39m\u001b[38;5;124m\\\u001b[39m\u001b[38;5;124md\u001b[39m\u001b[38;5;132;01m{4}\u001b[39;00m\u001b[38;5;124m Summer$\u001b[39m\u001b[38;5;124m\"\u001b[39m\n\u001b[0;32m      4\u001b[0m \u001b[38;5;66;03m# 使用正则表达式提取并过滤符合格式的行\u001b[39;00m\n\u001b[1;32m----> 5\u001b[0m invalid_games_df \u001b[38;5;241m=\u001b[39m df\u001b[38;5;241m.\u001b[39mfilter(regexp_extract(\u001b[43mcol\u001b[49m\u001b[43m(\u001b[49m\u001b[38;5;124;43m\"\u001b[39;49m\u001b[38;5;124;43mGames\u001b[39;49m\u001b[38;5;124;43m\"\u001b[39;49m\u001b[43m)\u001b[49m, pattern, \u001b[38;5;241m0\u001b[39m) \u001b[38;5;241m==\u001b[39m \u001b[38;5;124m\"\u001b[39m\u001b[38;5;124m\"\u001b[39m)\n\u001b[0;32m      7\u001b[0m \u001b[38;5;66;03m# 显示不符合格式的行\u001b[39;00m\n\u001b[0;32m      8\u001b[0m invalid_games_count \u001b[38;5;241m=\u001b[39m invalid_games_df\u001b[38;5;241m.\u001b[39mcount()\n",
      "\u001b[1;31mTypeError\u001b[0m: 'str' object is not callable"
     ]
    }
   ],
   "source": [
    "\n",
    "\n",
    "# 定义正则表达式模式来匹配 \"aaaa Summer\" 格式\n",
    "pattern = r\"^\\d{4} Summer$\"\n",
    "\n",
    "# 使用正则表达式提取并过滤符合格式的行\n",
    "invalid_games_df = df.filter(regexp_extract(col(\"Games\"), pattern, 0) == \"\")\n",
    "\n",
    "# 显示不符合格式的行\n",
    "invalid_games_count = invalid_games_df.count()\n",
    "\n",
    "if invalid_games_count > 0:\n",
    "    print(f\"以下行的 'Games' 列不符合 'aaaa Summer' 格式:\")\n",
    "    invalid_games_df.show(invalid_games_count, truncate=False)\n",
    "else:\n",
    "    print(\"所有行的 'Games' 列均符合 'aaaa Summer' 格式.\")"
   ]
  },
  {
   "cell_type": "code",
   "execution_count": null,
   "metadata": {},
   "outputs": [
    {
     "name": "stdout",
     "output_type": "stream",
     "text": [
      "+-----------+---------------+---------------+\n",
      "|      Games|NA_Weight_Count|NA_Height_Count|\n",
      "+-----------+---------------+---------------+\n",
      "|        SWE|              5|              0|\n",
      "|        LUX|              2|              0|\n",
      "|1984 Summer|            423|            422|\n",
      "|1964 Summer|            278|            272|\n",
      "|        NED|              2|              0|\n",
      "|2008 Summer|            159|            150|\n",
      "|1988 Summer|            307|            318|\n",
      "|2000 Summer|            126|            123|\n",
      "|1976 Summer|            361|            358|\n",
      "|        BER|              2|              0|\n",
      "|        CAN|              9|              0|\n",
      "|1952 Summer|           6197|           6197|\n",
      "|1948 Summer|           5337|           5324|\n",
      "|1996 Summer|           1820|           1870|\n",
      "|1972 Summer|            376|            286|\n",
      "|        NZL|              1|              0|\n",
      "|        COK|              1|              0|\n",
      "|        RSA|              1|              0|\n",
      "|1956 Summer|           2783|           2779|\n",
      "|1968 Summer|             95|             95|\n",
      "+-----------+---------------+---------------+\n",
      "only showing top 20 rows\n",
      "\n"
     ]
    }
   ],
   "source": [
    "from pyspark.sql import SparkSession\n",
    "from pyspark.sql import Row\n",
    "\n",
    "# 创建SparkSession\n",
    "spark = SparkSession.builder.appName(\"OlympicsEDA\").getOrCreate()\n",
    "\n",
    "# 转换DataFrame为RDD\n",
    "rdd = df.rdd\n",
    "\n",
    "# 过滤Weight和Height为'NA'的记录\n",
    "na_rdd = rdd.filter(lambda row: row['Weight'] == 'NA' or row['Height'] == 'NA')\n",
    "\n",
    "# 映射为 (Games, (Weight_count, Height_count)) 形式\n",
    "mapped_rdd = na_rdd.map(lambda row: (row['Games'], (1 if row['Weight'] == 'NA' else 0, 1 if row['Height'] == 'NA' else 0)))\n",
    "\n",
    "# 进行聚合\n",
    "result_rdd = mapped_rdd.reduceByKey(lambda a, b: (a[0] + b[0], a[1] + b[1]))\n",
    "\n",
    "# 转换为DataFrame\n",
    "result_rows = result_rdd.map(lambda x: Row(Games=x[0], NA_Weight_Count=x[1][0], NA_Height_Count=x[1][1]))\n",
    "result_df = spark.createDataFrame(result_rows)\n",
    "\n",
    "# 显示结果\n",
    "result_df.show()\n"
   ]
  },
  {
   "cell_type": "code",
   "execution_count": null,
   "metadata": {},
   "outputs": [
    {
     "name": "stdout",
     "output_type": "stream",
     "text": [
      "Games 列中包含 'SWE'\n"
     ]
    }
   ],
   "source": [
    "contains_swe = rdd.filter(lambda row: row['Games'] == 'SWE').count() > 0\n",
    "if contains_swe:\n",
    "    print(\"Games 列中包含 'SWE'\")\n",
    "else:\n",
    "    print(\"Games 列中不包含 'SWE'\")"
   ]
  },
  {
   "cell_type": "code",
   "execution_count": null,
   "metadata": {},
   "outputs": [
    {
     "name": "stdout",
     "output_type": "stream",
     "text": [
      "Row(ID=3957, Name='\"Martha Louise \"\"Mrta\"\" Andersson (-Ingemansson', Sex=' -Karlsson)\"', Age='F', Height='23', Weight='NA', Team='NA', NOC='Sweden', Games='SWE', Year='1948 Summer', Season='1948', City='Summer', Sport='London', Event='Gymnastics', Medal=\"Gymnastics Women's Team All-Around\")\n",
      "Row(ID=127281, Name='\"Nils Gustaf Fredrik Bror \"\"Hans\"\" von Blixen-Finecke', Sex=' Jr.\"', Age='M', Height='35', Weight='NA', Team='NA', NOC='Sweden', Games='SWE', Year='1952 Summer', Season='1952', City='Summer', Sport='Helsinki', Event='Equestrianism', Medal=\"Equestrianism Men's Three-Day Event, Individual\")\n",
      "Row(ID=127281, Name='\"Nils Gustaf Fredrik Bror \"\"Hans\"\" von Blixen-Finecke', Sex=' Jr.\"', Age='M', Height='35', Weight='NA', Team='NA', NOC='Sweden', Games='SWE', Year='1952 Summer', Season='1952', City='Summer', Sport='Helsinki', Event='Equestrianism', Medal=\"Equestrianism Men's Three-Day Event, Team\")\n",
      "Row(ID=127281, Name='\"Nils Gustaf Fredrik Bror \"\"Hans\"\" von Blixen-Finecke', Sex=' Jr.\"', Age='M', Height='39', Weight='NA', Team='NA', NOC='Sweden', Games='SWE', Year='1956 Summer', Season='1956', City='Summer', Sport='Stockholm', Event='Equestrianism', Medal=\"Equestrianism Men's Three-Day Event, Individual\")\n",
      "Row(ID=127281, Name='\"Nils Gustaf Fredrik Bror \"\"Hans\"\" von Blixen-Finecke', Sex=' Jr.\"', Age='M', Height='39', Weight='NA', Team='NA', NOC='Sweden', Games='SWE', Year='1956 Summer', Season='1956', City='Summer', Sport='Stockholm', Event='Equestrianism', Medal=\"Equestrianism Men's Three-Day Event, Team\")\n"
     ]
    }
   ],
   "source": [
    "# 转换DataFrame为RDD\n",
    "rdd = df.rdd\n",
    "\n",
    "# 过滤出Games列中值为'SWE'的行\n",
    "swe_rows = rdd.filter(lambda row: row['Games'] == 'SWE').collect()\n",
    "\n",
    "# 显示结果\n",
    "for row in swe_rows:\n",
    "    print(row)\n"
   ]
  }
 ],
 "metadata": {
  "kernelspec": {
   "display_name": "Python 3",
   "language": "python",
   "name": "python3"
  },
  "language_info": {
   "codemirror_mode": {
    "name": "ipython",
    "version": 3
   },
   "file_extension": ".py",
   "mimetype": "text/x-python",
   "name": "python",
   "nbconvert_exporter": "python",
   "pygments_lexer": "ipython3",
   "version": "3.10.14"
  }
 },
 "nbformat": 4,
 "nbformat_minor": 2
}
