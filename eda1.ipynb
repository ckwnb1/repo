{
 "cells": [
  {
   "cell_type": "code",
   "execution_count": null,
   "metadata": {},
   "outputs": [],
   "source": [
    "from pyspark.sql import SparkSession\n",
    "from pyspark.sql.functions import col, regexp_extract,count,when,avg,lag,format_number,concat, lit,row_number,concat_ws,collect_list,expr\n",
    "from pyspark.sql.window import Window\n",
    "from pyspark.sql.types import StringType\n",
    "import pandas as pd"
   ]
  },
  {
   "cell_type": "code",
   "execution_count": null,
   "metadata": {},
   "outputs": [],
   "source": [
    "from pyspark.sql.functions import col, regexp_extract,count,when\n",
    "import pandas as pd\n",
    "# 创建 SparkSession\n",
    "spark = SparkSession.builder.appName(\"OlympicsEDA\").getOrCreate()\n",
    "# 定义文件路径\n",
    "csv_file_path = \"E:\\\\hku\\\\cloud cluster\\\\ex4\\\\after1958_filled2.csv\"\n",
    "\n",
    "\n",
    "semicolon_csv_file_path = \"E:\\\\hku\\\\cloud cluster\\\\ex4\\\\after1958_filled2_semicolon.csv\"\n",
    "\n",
    "# 使用 Pandas 读取原始 CSV 文件，并将其转换为分号分隔符\n",
    "df = pd.read_csv(csv_file_path, encoding=\"UTF-8\")\n",
    "df = df.loc[:, ~df.columns.str.contains('^Unnamed')]\n",
    "df.to_csv(semicolon_csv_file_path, sep=';', index=False, encoding=\"UTF-8\")\n",
    "# 读取使用分号分隔符的新 CSV 文件\n",
    "spark_df = spark.read \\\n",
    "    .option(\"header\", \"true\") \\\n",
    "    .option(\"inferSchema\", \"true\") \\\n",
    "    .option(\"encoding\", \"UTF-8\") \\\n",
    "    .option(\"delimiter\", \";\") \\\n",
    "    .csv(semicolon_csv_file_path)\n",
    "\n",
    "\n"
   ]
  },
  {
   "cell_type": "code",
   "execution_count": null,
   "metadata": {},
   "outputs": [],
   "source": [
    "# 打印 Schema\n",
    "spark_df.printSchema()\n",
    "\n",
    "# 显示数据的前几行\n",
    "spark_df.show(50)\n",
    "\n",
    "# 获取数值列的统计信息aa\n",
    "spark_df.describe().show()\n",
    "\n",
    "# 计算总行数\n",
    "total_rows = spark_df.count()\n",
    "print(f\"Total Rows: {total_rows}\")\n",
    "\n",
    "# 打印 DataFrame 的列名和数据类型\n",
    "print(\"DataFrame 的列名和数据类型:\")\n",
    "print(spark_df.dtypes)"
   ]
  },
  {
   "cell_type": "markdown",
   "metadata": {},
   "source": [
    "# 第一个eda问题：Distribution and development trends of sports participation between male and female athletes"
   ]
  },
  {
   "cell_type": "code",
   "execution_count": null,
   "metadata": {},
   "outputs": [],
   "source": [
    "# 1. 按性别和年份分组，计算每组的运动员人数\n",
    "gender_trend_df = spark_df.groupBy(\"Sex\", \"Year\").agg(count(\"ID\").alias(\"Participant_Count\"))\n",
    "\n",
    "# 2. 对结果进行排序\n",
    "sorted_gender_trend_df = gender_trend_df.orderBy(\"Year\", \"Sex\")\n",
    "\n",
    "# 查看前21行\n",
    "sorted_gender_trend_df.show(21)\n"
   ]
  },
  {
   "cell_type": "code",
   "execution_count": null,
   "metadata": {},
   "outputs": [],
   "source": [
    "# 1. 按性别和年份分组，计算每组的运动员人数\n",
    "gender_trend_df = spark_df.groupBy(\"Sex\", \"Year\").agg(\n",
    "    count(\"ID\").alias(\"Participant_Count\")\n",
    ")\n",
    "\n",
    "# 2. 计算年增长率和参与比例\n",
    "window_spec = Window.partitionBy(\"Sex\").orderBy(\"Year\")\n",
    "gender_trend_df = gender_trend_df.withColumn(\n",
    "    \"Prev_Year_Participant\", lag(\"Participant_Count\").over(window_spec)\n",
    ").withColumn(\n",
    "    \"Growth_Rate\", \n",
    "    ((col(\"Participant_Count\") - col(\"Prev_Year_Participant\")) / col(\"Prev_Year_Participant\") * 100).cast(\"decimal(10,3)\")\n",
    ").withColumn(\n",
    "    \"Growth_Rate\", concat(col(\"Growth_Rate\"), lit(\"%\"))\n",
    ")\n",
    "\n",
    "# 3. 计算每年的总参与人数和参与比例\n",
    "total_participants_df = spark_df.groupBy(\"Year\").agg(count(\"ID\").alias(\"Total_Participants\"))\n",
    "gender_ratio_df = gender_trend_df.join(total_participants_df, on=\"Year\").withColumn(\n",
    "    \"Participation_Ratio\", (col(\"Participant_Count\") / col(\"Total_Participants\") * 100).cast(\"decimal(10,3)\")\n",
    ").withColumn(\n",
    "    \"Participation_Ratio\", concat(col(\"Participation_Ratio\"), lit(\"%\"))\n",
    ")\n"
   ]
  },
  {
   "cell_type": "code",
   "execution_count": null,
   "metadata": {},
   "outputs": [],
   "source": [
    "# 捕获物理计划\n",
    "gender_ratio_df.explain()\n",
    "\n",
    "# 4. 展示所有数据\n",
    "gender_ratio_df.orderBy(\"Year\", \"Sex\").show(n=200000, truncate=False)"
   ]
  },
  {
   "cell_type": "markdown",
   "metadata": {},
   "source": [
    "\n",
    "\n",
    "Inference: Even though the overall trend of both the graphs is on the rise. However, after the 1996 we see that there was a slight dip in the number of male participants.\n"
   ]
  },
  {
   "cell_type": "markdown",
   "metadata": {},
   "source": [
    "# 第二个EDA问题：dentification of the sports infrastructure and traditional strong events of various countries"
   ]
  },
  {
   "cell_type": "code",
   "execution_count": null,
   "metadata": {},
   "outputs": [],
   "source": [
    "medal_counts = spark_df.groupBy(\"Year\", \"NOC\").agg(count(when(col(\"Medal\").isNotNull(), 1)).alias(\"MedalCount\"))\n",
    "\n",
    "# 使用窗口函数找出每年奖牌总数排名前十的国\n",
    "\n",
    "windowSpec = Window.partitionBy(\"Year\").orderBy(col(\"MedalCount\").desc())\n",
    "top_10_countries = medal_counts.withColumn(\"rank\", row_number().over(windowSpec)).filter(col(\"rank\") <= 10).drop(\"rank\")\n",
    "\n",
    "# 将结果显示为每年奖牌总数排名前十的国家和对应的奖牌数\n",
    "result = top_10_countries.groupBy(\"Year\").agg(concat_ws(\", \", collect_list(concat_ws(\"-\", col(\"NOC\"), col(\"MedalCount\")))).alias(\"Top10Countries\"))\n",
    "\n",
    "# 展示结果\n",
    "result.show(20, truncate=False)"
   ]
  },
  {
   "cell_type": "code",
   "execution_count": null,
   "metadata": {},
   "outputs": [],
   "source": [
    "sport_leaders = spark_df.groupBy(\"NOC\", \"Sport\").agg(count(when(col(\"Medal\").isNotNull(), 1)).alias(\"MedalCount\"))\n",
    "\n",
    "# 找出每项运动的主导国家\n",
    "windowSpec = Window.partitionBy(\"Sport\").orderBy(col(\"MedalCount\").desc())\n",
    "sport_leaders = sport_leaders.withColumn(\"rank\", row_number().over(windowSpec)).filter(col(\"rank\") == 1).drop(\"rank\")\n",
    "\n",
    "# 合并同一个国家的所有主导项目\n",
    "from pyspark.sql.functions import collect_list\n",
    "\n",
    "merged_sport_leaders = sport_leaders.groupBy(\"NOC\").agg(concat_ws(\", \", collect_list(concat_ws(\"-\", col(\"Sport\"), col(\"MedalCount\")))).alias(\"DominantSports\"))\n",
    "\n",
    "# 展示结果\n",
    "merged_sport_leaders.show(40, truncate=False)"
   ]
  },
  {
   "cell_type": "markdown",
   "metadata": {},
   "source": [
    "# 第四个EDA问题：Do host countries win significantly more medals compared to the Olympics before and after they host?"
   ]
  },
  {
   "cell_type": "code",
   "execution_count": null,
   "metadata": {},
   "outputs": [],
   "source": [
    "host_countries = {\n",
    "    1896: 'GRE', 1900: 'FRA', 1904: 'USA', 1908: 'GBR', 1912: 'SWE', 1920: 'BEL',\n",
    "    1924: 'FRA', 1928: 'NED', 1932: 'USA', 1936: 'GER', 1948: 'GBR', 1952: 'FIN',\n",
    "    1956: 'AUS', 1960: 'ITA', 1964: 'JPN', 1968: 'MEX', 1972: 'FRG', 1976: 'CAN',\n",
    "    1980: 'URS', 1984: 'USA', 1988: 'KOR', 1992: 'ESP', 1996: 'USA', 2000: 'AUS',\n",
    "    2004: 'GRE', 2008: 'CHN', 2012: 'GBR', 2016: 'BRA'\n",
    "}\n",
    "from pyspark.sql.functions import udf\n",
    "from pyspark.sql.types import StringType\n",
    "import os\n",
    "\n",
    "# 设置环境变量\n",
    "os.environ['PYSPARK_PYTHON'] = '/usr/bin/python3.10'  # 替换为您的Python 3.10路径\n",
    "os.environ['PYSPARK_DRIVER_PYTHON'] = '/usr/bin/python3.10'  # 替换为您的Python 3.10路径\n",
    "# UDF函数来获取主办国\n",
    "def get_host_country(year):\n",
    "    return host_countries.get(year, None)\n",
    "\n",
    "# 注册UDF\n",
    "get_host_country_udf = udf(get_host_country, StringType())\n",
    "\n",
    "# 增加主办国列\n",
    "spark_df = spark_df.withColumn(\"Host_Country\", get_host_country_udf(col(\"Year\")))\n",
    "spark_df.show()"
   ]
  }
 ],
 "metadata": {
  "kernelspec": {
   "display_name": "final",
   "language": "python",
   "name": "python3"
  },
  "language_info": {
   "codemirror_mode": {
    "name": "ipython",
    "version": 3
   },
   "file_extension": ".py",
   "mimetype": "text/x-python",
   "name": "python",
   "nbconvert_exporter": "python",
   "pygments_lexer": "ipython3",
   "version": "3.12.4"
  }
 },
 "nbformat": 4,
 "nbformat_minor": 2
}
